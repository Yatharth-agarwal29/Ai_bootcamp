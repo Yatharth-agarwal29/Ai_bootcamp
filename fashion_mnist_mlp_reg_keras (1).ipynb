{
 "cells": [
  {
   "cell_type": "code",
   "execution_count": 2,
   "id": "4bfda472",
   "metadata": {
    "executionInfo": {
     "elapsed": 4024,
     "status": "ok",
     "timestamp": 1761715844341,
     "user": {
      "displayName": "Lohith Bandla",
      "userId": "16055164822052850482"
     },
     "user_tz": -330
    },
    "id": "4bfda472"
   },
   "outputs": [],
   "source": [
    "#import dependencies\n",
    "from keras.models import Sequential\n",
    "from keras.layers import Dense,Flatten\n",
    "from keras.datasets import fashion_mnist,cifar10\n",
    "from keras import regularizers\n",
    "from keras.utils import to_categorical\n",
    "from keras.optimizers import Adam\n",
    "import matplotlib.pyplot as plt"
   ]
  },
  {
   "cell_type": "code",
   "execution_count": 3,
   "id": "160b8dde",
   "metadata": {
    "colab": {
     "base_uri": "https://localhost:8080/"
    },
    "executionInfo": {
     "elapsed": 10301,
     "status": "ok",
     "timestamp": 1761715854645,
     "user": {
      "displayName": "Lohith Bandla",
      "userId": "16055164822052850482"
     },
     "user_tz": -330
    },
    "id": "160b8dde",
    "outputId": "31dd7ea6-ba21-4d2e-c630-c00c11cfed43"
   },
   "outputs": [],
   "source": [
    "#load data\n",
    "(x_train,y_train),(x_test,y_test)=cifar10.load_data()"
   ]
  },
  {
   "cell_type": "code",
   "execution_count": 4,
   "id": "c96bbfd6",
   "metadata": {
    "executionInfo": {
     "elapsed": 621,
     "status": "ok",
     "timestamp": 1761715855270,
     "user": {
      "displayName": "Lohith Bandla",
      "userId": "16055164822052850482"
     },
     "user_tz": -330
    },
    "id": "c96bbfd6"
   },
   "outputs": [],
   "source": [
    "#normalise\n",
    "x_train=x_train.astype('float32')/255\n",
    "x_test=x_test.astype('float32')/255"
   ]
  },
  {
   "cell_type": "code",
   "execution_count": 5,
   "id": "8f0ebd1b",
   "metadata": {
    "executionInfo": {
     "elapsed": 27,
     "status": "ok",
     "timestamp": 1761715855300,
     "user": {
      "displayName": "Lohith Bandla",
      "userId": "16055164822052850482"
     },
     "user_tz": -330
    },
    "id": "8f0ebd1b"
   },
   "outputs": [],
   "source": [
    "#to_categorical\n",
    "y_train=to_categorical(y_train)\n",
    "y_test=to_categorical(y_test)"
   ]
  },
  {
   "cell_type": "code",
   "execution_count": 6,
   "id": "43804db7",
   "metadata": {
    "colab": {
     "base_uri": "https://localhost:8080/"
    },
    "executionInfo": {
     "elapsed": 4472,
     "status": "ok",
     "timestamp": 1761715859774,
     "user": {
      "displayName": "Lohith Bandla",
      "userId": "16055164822052850482"
     },
     "user_tz": -330
    },
    "id": "43804db7",
    "outputId": "ac6df9d0-6509-4811-e8f2-aef8463e8c67"
   },
   "outputs": [
    {
     "name": "stderr",
     "output_type": "stream",
     "text": [
      "c:\\Users\\rekha\\AppData\\Local\\Programs\\Python\\Python313\\Lib\\site-packages\\keras\\src\\layers\\reshaping\\flatten.py:37: UserWarning: Do not pass an `input_shape`/`input_dim` argument to a layer. When using Sequential models, prefer using an `Input(shape)` object as the first layer in the model instead.\n",
      "  super().__init__(**kwargs)\n"
     ]
    }
   ],
   "source": [
    "#architecture\n",
    "model_base=Sequential()\n",
    "model_base.add(Flatten(input_shape=(32,32,3))) #first layer\n",
    "model_base.add(Dense(1024,activation='relu'))#hidden layer\n",
    "model_base.add(Dense(512,activation='relu'))\n",
    "model_base.add(Dense(256,activation='relu'))\n",
    "model_base.add(Dense(128,activation='relu'))\n",
    "model_base.add(Dense(64,activation='relu'))\n",
    "model_base.add(Dense(10,activation='softmax')) #outout layer"
   ]
  },
  {
   "cell_type": "code",
   "execution_count": 7,
   "id": "fec89810",
   "metadata": {
    "executionInfo": {
     "elapsed": 6,
     "status": "ok",
     "timestamp": 1761715859777,
     "user": {
      "displayName": "Lohith Bandla",
      "userId": "16055164822052850482"
     },
     "user_tz": -330
    },
    "id": "fec89810"
   },
   "outputs": [],
   "source": [
    "#compile\n",
    "model_base.compile(optimizer=Adam(learning_rate=0.001),\n",
    "                   loss='categorical_crossentropy',\n",
    "                   metrics=['accuracy'])"
   ]
  },
  {
   "cell_type": "code",
   "execution_count": 9,
   "id": "dd951558",
   "metadata": {
    "colab": {
     "base_uri": "https://localhost:8080/"
    },
    "executionInfo": {
     "elapsed": 66665,
     "status": "ok",
     "timestamp": 1761715926445,
     "user": {
      "displayName": "Lohith Bandla",
      "userId": "16055164822052850482"
     },
     "user_tz": -330
    },
    "id": "dd951558",
    "outputId": "574cbe89-0b68-45a0-80a9-453a050c89ca"
   },
   "outputs": [
    {
     "name": "stdout",
     "output_type": "stream",
     "text": [
      "Epoch 1/11\n",
      "\u001b[1m313/313\u001b[0m \u001b[32m━━━━━━━━━━━━━━━━━━━━\u001b[0m\u001b[37m\u001b[0m \u001b[1m22s\u001b[0m 71ms/step - accuracy: 0.3697 - loss: 1.7463 - val_accuracy: 0.3845 - val_loss: 1.7092\n",
      "Epoch 2/11\n",
      "\u001b[1m313/313\u001b[0m \u001b[32m━━━━━━━━━━━━━━━━━━━━\u001b[0m\u001b[37m\u001b[0m \u001b[1m45s\u001b[0m 144ms/step - accuracy: 0.4066 - loss: 1.6491 - val_accuracy: 0.4054 - val_loss: 1.6664\n",
      "Epoch 3/11\n",
      "\u001b[1m313/313\u001b[0m \u001b[32m━━━━━━━━━━━━━━━━━━━━\u001b[0m\u001b[37m\u001b[0m \u001b[1m42s\u001b[0m 132ms/step - accuracy: 0.4303 - loss: 1.5848 - val_accuracy: 0.4313 - val_loss: 1.6134\n",
      "Epoch 4/11\n",
      "\u001b[1m313/313\u001b[0m \u001b[32m━━━━━━━━━━━━━━━━━━━━\u001b[0m\u001b[37m\u001b[0m \u001b[1m46s\u001b[0m 147ms/step - accuracy: 0.4464 - loss: 1.5464 - val_accuracy: 0.4523 - val_loss: 1.5474\n",
      "Epoch 5/11\n",
      "\u001b[1m313/313\u001b[0m \u001b[32m━━━━━━━━━━━━━━━━━━━━\u001b[0m\u001b[37m\u001b[0m \u001b[1m40s\u001b[0m 128ms/step - accuracy: 0.4594 - loss: 1.5042 - val_accuracy: 0.4259 - val_loss: 1.5929\n",
      "Epoch 6/11\n",
      "\u001b[1m313/313\u001b[0m \u001b[32m━━━━━━━━━━━━━━━━━━━━\u001b[0m\u001b[37m\u001b[0m \u001b[1m34s\u001b[0m 109ms/step - accuracy: 0.4780 - loss: 1.4636 - val_accuracy: 0.4670 - val_loss: 1.5048\n",
      "Epoch 7/11\n",
      "\u001b[1m313/313\u001b[0m \u001b[32m━━━━━━━━━━━━━━━━━━━━\u001b[0m\u001b[37m\u001b[0m \u001b[1m34s\u001b[0m 109ms/step - accuracy: 0.4877 - loss: 1.4284 - val_accuracy: 0.4735 - val_loss: 1.4808\n",
      "Epoch 8/11\n",
      "\u001b[1m313/313\u001b[0m \u001b[32m━━━━━━━━━━━━━━━━━━━━\u001b[0m\u001b[37m\u001b[0m \u001b[1m38s\u001b[0m 121ms/step - accuracy: 0.5000 - loss: 1.3910 - val_accuracy: 0.4504 - val_loss: 1.5361\n",
      "Epoch 9/11\n",
      "\u001b[1m313/313\u001b[0m \u001b[32m━━━━━━━━━━━━━━━━━━━━\u001b[0m\u001b[37m\u001b[0m \u001b[1m35s\u001b[0m 110ms/step - accuracy: 0.5076 - loss: 1.3728 - val_accuracy: 0.4631 - val_loss: 1.5171\n",
      "Epoch 10/11\n",
      "\u001b[1m313/313\u001b[0m \u001b[32m━━━━━━━━━━━━━━━━━━━━\u001b[0m\u001b[37m\u001b[0m \u001b[1m28s\u001b[0m 67ms/step - accuracy: 0.5167 - loss: 1.3386 - val_accuracy: 0.4905 - val_loss: 1.4644\n",
      "Epoch 11/11\n",
      "\u001b[1m313/313\u001b[0m \u001b[32m━━━━━━━━━━━━━━━━━━━━\u001b[0m\u001b[37m\u001b[0m \u001b[1m33s\u001b[0m 107ms/step - accuracy: 0.5334 - loss: 1.3069 - val_accuracy: 0.4807 - val_loss: 1.4684\n"
     ]
    }
   ],
   "source": [
    "#train\n",
    "m1=model_base.fit(x_train,y_train,epochs=11,batch_size=128,validation_split=0.2)"
   ]
  },
  {
   "cell_type": "code",
   "execution_count": 20,
   "id": "194b7823",
   "metadata": {
    "colab": {
     "base_uri": "https://localhost:8080/"
    },
    "executionInfo": {
     "elapsed": 1721,
     "status": "ok",
     "timestamp": 1761715928171,
     "user": {
      "displayName": "Lohith Bandla",
      "userId": "16055164822052850482"
     },
     "user_tz": -330
    },
    "id": "194b7823",
    "outputId": "10118744-f44e-469f-9d35-64dc779c044d"
   },
   "outputs": [
    {
     "name": "stdout",
     "output_type": "stream",
     "text": [
      "\u001b[1m313/313\u001b[0m \u001b[32m━━━━━━━━━━━━━━━━━━━━\u001b[0m\u001b[37m\u001b[0m \u001b[1m6s\u001b[0m 19ms/step - accuracy: 0.4852 - loss: 1.4639\n"
     ]
    }
   ],
   "source": [
    "#evaluate\n",
    "loss,test_accuracy=model_base.evaluate(x_test,y_test)"
   ]
  },
  {
   "cell_type": "code",
   "execution_count": 21,
   "id": "4603103a",
   "metadata": {
    "executionInfo": {
     "elapsed": 35,
     "status": "ok",
     "timestamp": 1761715928209,
     "user": {
      "displayName": "Lohith Bandla",
      "userId": "16055164822052850482"
     },
     "user_tz": -330
    },
    "id": "4603103a"
   },
   "outputs": [],
   "source": [
    "#MODEL with 12 regulizer(le-4) and dropout\n",
    "#architecture\n",
    "model_le4=Sequential()\n",
    "model_le4.add(Flatten(input_shape=(32,32,3))) #first layer\n",
    "model_le4.add(Dense(1024,activation='relu',kernel_regularizer=regularizers.l2(1e-4)))#hidden layer\n",
    "model_le4.add(Dense(512,activation='relu',kernel_regularizer=regularizers.l2(1e-4)))\n",
    "model_le4.add(Dense(256,activation='relu',kernel_regularizer=regularizers.l2(1e-4)))\n",
    "model_le4.add(Dense(128,activation='relu',kernel_regularizer=regularizers.l2(1e-4)))\n",
    "model_le4.add(Dense(64,activation='relu',kernel_regularizer=regularizers.l2(1e-4)))\n",
    "model_le4.add(Dense(10,activation='softmax')) #outout layer"
   ]
  },
  {
   "cell_type": "code",
   "execution_count": 22,
   "id": "020f688b",
   "metadata": {
    "executionInfo": {
     "elapsed": 2,
     "status": "ok",
     "timestamp": 1761715928217,
     "user": {
      "displayName": "Lohith Bandla",
      "userId": "16055164822052850482"
     },
     "user_tz": -330
    },
    "id": "020f688b"
   },
   "outputs": [],
   "source": [
    "#compile\n",
    "model_le4.compile(optimizer=Adam(learning_rate=0.001),\n",
    "                   loss='categorical_crossentropy',\n",
    "                   metrics=['accuracy'])"
   ]
  },
  {
   "cell_type": "code",
   "execution_count": 13,
   "id": "5bcd0446",
   "metadata": {
    "colab": {
     "base_uri": "https://localhost:8080/"
    },
    "executionInfo": {
     "elapsed": 62318,
     "status": "ok",
     "timestamp": 1761715990538,
     "user": {
      "displayName": "Lohith Bandla",
      "userId": "16055164822052850482"
     },
     "user_tz": -330
    },
    "id": "5bcd0446",
    "outputId": "080773dd-8632-4e13-c549-07785785dd39"
   },
   "outputs": [
    {
     "name": "stdout",
     "output_type": "stream",
     "text": [
      "Epoch 1/10\n",
      "\u001b[1m313/313\u001b[0m \u001b[32m━━━━━━━━━━━━━━━━━━━━\u001b[0m\u001b[37m\u001b[0m \u001b[1m34s\u001b[0m 99ms/step - accuracy: 0.2784 - loss: 2.1369 - val_accuracy: 0.3205 - val_loss: 1.9940\n",
      "Epoch 2/10\n",
      "\u001b[1m313/313\u001b[0m \u001b[32m━━━━━━━━━━━━━━━━━━━━\u001b[0m\u001b[37m\u001b[0m \u001b[1m40s\u001b[0m 127ms/step - accuracy: 0.3661 - loss: 1.8533 - val_accuracy: 0.3789 - val_loss: 1.8145\n",
      "Epoch 3/10\n",
      "\u001b[1m313/313\u001b[0m \u001b[32m━━━━━━━━━━━━━━━━━━━━\u001b[0m\u001b[37m\u001b[0m \u001b[1m53s\u001b[0m 167ms/step - accuracy: 0.3910 - loss: 1.7672 - val_accuracy: 0.4038 - val_loss: 1.7276\n",
      "Epoch 4/10\n",
      "\u001b[1m313/313\u001b[0m \u001b[32m━━━━━━━━━━━━━━━━━━━━\u001b[0m\u001b[37m\u001b[0m \u001b[1m46s\u001b[0m 146ms/step - accuracy: 0.4246 - loss: 1.6854 - val_accuracy: 0.4243 - val_loss: 1.6750\n",
      "Epoch 5/10\n",
      "\u001b[1m313/313\u001b[0m \u001b[32m━━━━━━━━━━━━━━━━━━━━\u001b[0m\u001b[37m\u001b[0m \u001b[1m41s\u001b[0m 131ms/step - accuracy: 0.4450 - loss: 1.6192 - val_accuracy: 0.4369 - val_loss: 1.6700\n",
      "Epoch 6/10\n",
      "\u001b[1m313/313\u001b[0m \u001b[32m━━━━━━━━━━━━━━━━━━━━\u001b[0m\u001b[37m\u001b[0m \u001b[1m40s\u001b[0m 129ms/step - accuracy: 0.4600 - loss: 1.5806 - val_accuracy: 0.4610 - val_loss: 1.5871\n",
      "Epoch 7/10\n",
      "\u001b[1m313/313\u001b[0m \u001b[32m━━━━━━━━━━━━━━━━━━━━\u001b[0m\u001b[37m\u001b[0m \u001b[1m42s\u001b[0m 133ms/step - accuracy: 0.4710 - loss: 1.5505 - val_accuracy: 0.4532 - val_loss: 1.5959\n",
      "Epoch 8/10\n",
      "\u001b[1m313/313\u001b[0m \u001b[32m━━━━━━━━━━━━━━━━━━━━\u001b[0m\u001b[37m\u001b[0m \u001b[1m42s\u001b[0m 132ms/step - accuracy: 0.4794 - loss: 1.5148 - val_accuracy: 0.4665 - val_loss: 1.5786\n",
      "Epoch 9/10\n",
      "\u001b[1m313/313\u001b[0m \u001b[32m━━━━━━━━━━━━━━━━━━━━\u001b[0m\u001b[37m\u001b[0m \u001b[1m45s\u001b[0m 144ms/step - accuracy: 0.4856 - loss: 1.4970 - val_accuracy: 0.4637 - val_loss: 1.5706\n",
      "Epoch 10/10\n",
      "\u001b[1m313/313\u001b[0m \u001b[32m━━━━━━━━━━━━━━━━━━━━\u001b[0m\u001b[37m\u001b[0m \u001b[1m41s\u001b[0m 132ms/step - accuracy: 0.4934 - loss: 1.4755 - val_accuracy: 0.4664 - val_loss: 1.5645\n"
     ]
    }
   ],
   "source": [
    "#train\n",
    "m2=model_le4.fit(x_train,y_train,epochs=10,batch_size=128,validation_split=0.2)"
   ]
  },
  {
   "cell_type": "code",
   "execution_count": 14,
   "id": "67a23e38",
   "metadata": {
    "colab": {
     "base_uri": "https://localhost:8080/"
    },
    "executionInfo": {
     "elapsed": 1115,
     "status": "ok",
     "timestamp": 1761715991659,
     "user": {
      "displayName": "Lohith Bandla",
      "userId": "16055164822052850482"
     },
     "user_tz": -330
    },
    "id": "67a23e38",
    "outputId": "f57019b4-d17c-40f9-cc3c-81dd534e5926"
   },
   "outputs": [
    {
     "name": "stdout",
     "output_type": "stream",
     "text": [
      "\u001b[1m313/313\u001b[0m \u001b[32m━━━━━━━━━━━━━━━━━━━━\u001b[0m\u001b[37m\u001b[0m \u001b[1m6s\u001b[0m 19ms/step - accuracy: 0.4852 - loss: 1.4639\n"
     ]
    }
   ],
   "source": [
    "#evaluate\n",
    "loss,test_accuracy=model_base.evaluate(x_test,y_test)"
   ]
  },
  {
   "cell_type": "code",
   "execution_count": 15,
   "id": "e6f73023",
   "metadata": {
    "executionInfo": {
     "elapsed": 32,
     "status": "ok",
     "timestamp": 1761715991694,
     "user": {
      "displayName": "Lohith Bandla",
      "userId": "16055164822052850482"
     },
     "user_tz": -330
    },
    "id": "e6f73023"
   },
   "outputs": [],
   "source": [
    "#MODEL 3\n",
    "#MODEL with 12 regulizer(le-2) and dropout\n",
    "#architecture\n",
    "model_le2=Sequential()\n",
    "model_le2.add(Flatten(input_shape=(32,32,3))) #first layer\n",
    "model_le2.add(Dense(1024,activation='relu',kernel_regularizer=regularizers.l2(1e-2)))#hidden layer\n",
    "model_le2.add(Dense(512,activation='relu',kernel_regularizer=regularizers.l2(1e-2)))\n",
    "model_le2.add(Dense(256,activation='relu',kernel_regularizer=regularizers.l2(1e-2)))\n",
    "model_le2.add(Dense(128,activation='relu',kernel_regularizer=regularizers.l2(1e-2)))\n",
    "model_le2.add(Dense(64,activation='relu',kernel_regularizer=regularizers.l2(1e-2)))\n",
    "model_le2.add(Dense(10,activation='softmax')) #outout layer"
   ]
  },
  {
   "cell_type": "code",
   "execution_count": 16,
   "id": "0ffc3838",
   "metadata": {
    "executionInfo": {
     "elapsed": 21,
     "status": "ok",
     "timestamp": 1761715991718,
     "user": {
      "displayName": "Lohith Bandla",
      "userId": "16055164822052850482"
     },
     "user_tz": -330
    },
    "id": "0ffc3838"
   },
   "outputs": [],
   "source": [
    "#compile\n",
    "model_le2.compile(optimizer=Adam(learning_rate=0.001),\n",
    "                   loss='categorical_crossentropy',\n",
    "                   metrics=['accuracy'])"
   ]
  },
  {
   "cell_type": "code",
   "execution_count": 17,
   "id": "10615eb3",
   "metadata": {
    "colab": {
     "base_uri": "https://localhost:8080/"
    },
    "executionInfo": {
     "elapsed": 61935,
     "status": "ok",
     "timestamp": 1761716053656,
     "user": {
      "displayName": "Lohith Bandla",
      "userId": "16055164822052850482"
     },
     "user_tz": -330
    },
    "id": "10615eb3",
    "outputId": "94a501ee-e98b-4a2a-b77f-5942ad3d9e1f"
   },
   "outputs": [
    {
     "name": "stdout",
     "output_type": "stream",
     "text": [
      "Epoch 1/10\n",
      "\u001b[1m313/313\u001b[0m \u001b[32m━━━━━━━━━━━━━━━━━━━━\u001b[0m\u001b[37m\u001b[0m \u001b[1m42s\u001b[0m 117ms/step - accuracy: 0.2056 - loss: 4.5596 - val_accuracy: 0.2330 - val_loss: 2.3405\n",
      "Epoch 2/10\n",
      "\u001b[1m313/313\u001b[0m \u001b[32m━━━━━━━━━━━━━━━━━━━━\u001b[0m\u001b[37m\u001b[0m \u001b[1m40s\u001b[0m 129ms/step - accuracy: 0.2470 - loss: 2.2238 - val_accuracy: 0.2139 - val_loss: 2.2383\n",
      "Epoch 3/10\n",
      "\u001b[1m313/313\u001b[0m \u001b[32m━━━━━━━━━━━━━━━━━━━━\u001b[0m\u001b[37m\u001b[0m \u001b[1m40s\u001b[0m 126ms/step - accuracy: 0.2542 - loss: 2.1280 - val_accuracy: 0.2404 - val_loss: 2.1290\n",
      "Epoch 4/10\n",
      "\u001b[1m313/313\u001b[0m \u001b[32m━━━━━━━━━━━━━━━━━━━━\u001b[0m\u001b[37m\u001b[0m \u001b[1m44s\u001b[0m 141ms/step - accuracy: 0.2576 - loss: 2.0893 - val_accuracy: 0.2561 - val_loss: 2.0876\n",
      "Epoch 5/10\n",
      "\u001b[1m313/313\u001b[0m \u001b[32m━━━━━━━━━━━━━━━━━━━━\u001b[0m\u001b[37m\u001b[0m \u001b[1m49s\u001b[0m 155ms/step - accuracy: 0.2627 - loss: 2.0696 - val_accuracy: 0.2705 - val_loss: 2.0480\n",
      "Epoch 6/10\n",
      "\u001b[1m313/313\u001b[0m \u001b[32m━━━━━━━━━━━━━━━━━━━━\u001b[0m\u001b[37m\u001b[0m \u001b[1m41s\u001b[0m 130ms/step - accuracy: 0.2652 - loss: 2.0526 - val_accuracy: 0.2529 - val_loss: 2.0670\n",
      "Epoch 7/10\n",
      "\u001b[1m313/313\u001b[0m \u001b[32m━━━━━━━━━━━━━━━━━━━━\u001b[0m\u001b[37m\u001b[0m \u001b[1m42s\u001b[0m 133ms/step - accuracy: 0.2693 - loss: 2.0412 - val_accuracy: 0.2804 - val_loss: 2.0320\n",
      "Epoch 8/10\n",
      "\u001b[1m313/313\u001b[0m \u001b[32m━━━━━━━━━━━━━━━━━━━━\u001b[0m\u001b[37m\u001b[0m \u001b[1m47s\u001b[0m 149ms/step - accuracy: 0.2705 - loss: 2.0353 - val_accuracy: 0.2669 - val_loss: 2.0659\n",
      "Epoch 9/10\n",
      "\u001b[1m313/313\u001b[0m \u001b[32m━━━━━━━━━━━━━━━━━━━━\u001b[0m\u001b[37m\u001b[0m \u001b[1m45s\u001b[0m 143ms/step - accuracy: 0.2738 - loss: 2.0213 - val_accuracy: 0.2783 - val_loss: 2.0310\n",
      "Epoch 10/10\n",
      "\u001b[1m313/313\u001b[0m \u001b[32m━━━━━━━━━━━━━━━━━━━━\u001b[0m\u001b[37m\u001b[0m \u001b[1m48s\u001b[0m 154ms/step - accuracy: 0.2770 - loss: 2.0111 - val_accuracy: 0.2789 - val_loss: 2.0203\n"
     ]
    }
   ],
   "source": [
    "#train\n",
    "m3=model_le2.fit(x_train,y_train,epochs=10,batch_size=128,validation_split=0.2)"
   ]
  },
  {
   "cell_type": "code",
   "execution_count": 18,
   "id": "667ad858",
   "metadata": {
    "colab": {
     "base_uri": "https://localhost:8080/"
    },
    "executionInfo": {
     "elapsed": 2228,
     "status": "ok",
     "timestamp": 1761716055891,
     "user": {
      "displayName": "Lohith Bandla",
      "userId": "16055164822052850482"
     },
     "user_tz": -330
    },
    "id": "667ad858",
    "outputId": "ff002603-ee45-4895-d9d7-dce27e9dca37"
   },
   "outputs": [
    {
     "name": "stdout",
     "output_type": "stream",
     "text": [
      "\u001b[1m313/313\u001b[0m \u001b[32m━━━━━━━━━━━━━━━━━━━━\u001b[0m\u001b[37m\u001b[0m \u001b[1m8s\u001b[0m 26ms/step - accuracy: 0.2864 - loss: 1.9992\n"
     ]
    }
   ],
   "source": [
    "#evaluate\n",
    "loss,test_accuracy=model_le2.evaluate(x_test,y_test)"
   ]
  },
  {
   "cell_type": "code",
   "execution_count": 19,
   "id": "20413bb3",
   "metadata": {
    "colab": {
     "base_uri": "https://localhost:8080/",
     "height": 430
    },
    "executionInfo": {
     "elapsed": 403,
     "status": "ok",
     "timestamp": 1761716056307,
     "user": {
      "displayName": "Lohith Bandla",
      "userId": "16055164822052850482"
     },
     "user_tz": -330
    },
    "id": "20413bb3",
    "outputId": "f9443899-eb97-49ec-d7d8-864bd4a4b068"
   },
   "outputs": [
    {
     "data": {
      "image/png": "[encoded data removed]",
      "text/plain": [
       "<Figure size 640x480 with 1 Axes>"
      ]
     },
     "metadata": {},
     "output_type": "display_data"
    }
   ],
   "source": [
    "#visualisation\n",
    "plt.plot(m1.history['val_accuracy'],label='without reguliser',color='red')\n",
    "plt.plot(m2.history['val_accuracy'],label='le4',color='blue')\n",
    "plt.plot(m3.history['val_accuracy'],label='le2',color='green')\n",
    "plt.title='validation accuracy'\n",
    "plt.xlabel='epochs'\n",
    "plt.ylable='accuracy'\n",
    "plt.legend()\n",
    "plt.show()"
   ]
  },
  {
   "cell_type": "code",
   "execution_count": null,
   "id": "30f47d4d",
   "metadata": {
    "executionInfo": {
     "elapsed": 3,
     "status": "ok",
     "timestamp": 1761716056312,
     "user": {
      "displayName": "Lohith Bandla",
      "userId": "16055164822052850482"
     },
     "user_tz": -330
    },
    "id": "30f47d4d"
   },
   "outputs": [],
   "source": []
  }
 ],
 "metadata": {
  "accelerator": "GPU",
  "colab": {
   "gpuType": "T4",
   "provenance": []
  },
  "kernelspec": {
   "display_name": "Python 3",
   "language": "python",
   "name": "python3"
  },
  "language_info": {
   "codemirror_mode": {
    "name": "ipython",
    "version": 3
   },
   "file_extension": ".py",
   "mimetype": "text/x-python",
   "name": "python",
   "nbconvert_exporter": "python",
   "pygments_lexer": "ipython3",
   "version": "3.13.1"
  }
 },
 "nbformat": 4,
 "nbformat_minor": 5
}
